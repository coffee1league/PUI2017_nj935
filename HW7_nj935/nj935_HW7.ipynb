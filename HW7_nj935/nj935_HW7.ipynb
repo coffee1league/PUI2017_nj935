{
 "cells": [
  {
   "cell_type": "code",
   "execution_count": 59,
   "metadata": {},
   "outputs": [
    {
     "name": "stdout",
     "output_type": "stream",
     "text": [
      "Populating the interactive namespace from numpy and matplotlib\n"
     ]
    }
   ],
   "source": [
    "from __future__  import print_function, division\n",
    "import pylab as pl\n",
    "import pandas as pd\n",
    "import numpy as np\n",
    "import os\n",
    "\n",
    "%pylab inline\n",
    "import scipy.stats as stats\n",
    "datestring1 = \"201706\"\n",
    "datestring2 = \"201707\""
   ]
  },
  {
   "cell_type": "markdown",
   "metadata": {},
   "source": [
    "### Idea to investigate\n",
    "Males make longer rides on average than females do.\n",
    "\n",
    "### Null hypothesis\n",
    "Mean ride length (males) <= mean ride length (females).\n",
    "\n",
    "### Alternative hypothesis\n",
    "Mean ride length (males) > mean ride length (females).\n",
    "\n",
    "### Significance level\n",
    "alpha = 0.05"
   ]
  },
  {
   "cell_type": "code",
   "execution_count": 7,
   "metadata": {},
   "outputs": [
    {
     "data": {
      "text/plain": [
       "2304"
      ]
     },
     "execution_count": 7,
     "metadata": {},
     "output_type": "execute_result"
    }
   ],
   "source": [
    "os.getenv(\"PUIDATA\")\n",
    "os.system(\"curl -O https://s3.amazonaws.com/tripdata/\" + datestring1 + \"-citibike-tripdata.zip\")\n",
    "os.system(\"mv \" + datestring1 + \"-citibike-tripdata.zip \" + os.getenv(\"PUIDATA\"))\n",
    "os.system(\"unzip \" + os.getenv(\"PUIDATA\") + \"/\" + datestring1 + \"-citibike-tripdata.zip\")\n",
    "\n",
    "os.system(\"curl -O https://s3.amazonaws.com/tripdata/\" + datestring2 + \"-citibike-tripdata.zip\")\n",
    "os.system(\"mv \" + datestring2 + \"-citibike-tripdata.zip \" + os.getenv(\"PUIDATA\"))\n",
    "os.system(\"unzip \" + os.getenv(\"PUIDATA\") + \"/\" + datestring2 + \"-citibike-tripdata.zip\")\n"
   ]
  },
  {
   "cell_type": "code",
   "execution_count": 101,
   "metadata": {},
   "outputs": [],
   "source": [
    "input1=pd.read_csv(os.getenv(\"PUIDATA\")+\"/\"+datestring1+\"-citibike-tripdata.csv\")\n",
    "input2=pd.read_csv(os.getenv(\"PUIDATA\")+\"/\"+datestring2+\"-citibike-tripdata.csv\")                   "
   ]
  },
  {
   "cell_type": "code",
   "execution_count": 102,
   "metadata": {},
   "outputs": [],
   "source": [
    "df=pd.concat([input1,input2])"
   ]
  },
  {
   "cell_type": "code",
   "execution_count": 103,
   "metadata": {},
   "outputs": [
    {
     "name": "stdout",
     "output_type": "stream",
     "text": [
      "Two inputs (one month each):  (1731594, 15)    (1735599, 15)\n",
      "Merged (two months):  (3467193, 15)\n"
     ]
    }
   ],
   "source": [
    "# Check it merged OK\n",
    "\n",
    "print(\"Two inputs (one month each): \", input1.shape,\"  \", input2.shape)\n",
    "print(\"Merged (two months): \", df.shape)"
   ]
  },
  {
   "cell_type": "code",
   "execution_count": 104,
   "metadata": {},
   "outputs": [],
   "source": [
    "df.drop(['starttime', 'stoptime', 'start station id',\n",
    "       'start station name', 'start station latitude',\n",
    "       'start station longitude', 'end station id', 'end station name',\n",
    "       'end station latitude', 'end station longitude', 'bikeid', 'usertype',\n",
    "       'birth year'], axis=1, inplace=True)"
   ]
  },
  {
   "cell_type": "code",
   "execution_count": 105,
   "metadata": {},
   "outputs": [
    {
     "data": {
      "text/html": [
       "<div>\n",
       "<style>\n",
       "    .dataframe thead tr:only-child th {\n",
       "        text-align: right;\n",
       "    }\n",
       "\n",
       "    .dataframe thead th {\n",
       "        text-align: left;\n",
       "    }\n",
       "\n",
       "    .dataframe tbody tr th {\n",
       "        vertical-align: top;\n",
       "    }\n",
       "</style>\n",
       "<table border=\"1\" class=\"dataframe\">\n",
       "  <thead>\n",
       "    <tr style=\"text-align: right;\">\n",
       "      <th></th>\n",
       "      <th>tripduration</th>\n",
       "      <th>gender</th>\n",
       "    </tr>\n",
       "  </thead>\n",
       "  <tbody>\n",
       "    <tr>\n",
       "      <th>0</th>\n",
       "      <td>1397</td>\n",
       "      <td>1</td>\n",
       "    </tr>\n",
       "    <tr>\n",
       "      <th>1</th>\n",
       "      <td>1103</td>\n",
       "      <td>1</td>\n",
       "    </tr>\n",
       "    <tr>\n",
       "      <th>2</th>\n",
       "      <td>1810</td>\n",
       "      <td>1</td>\n",
       "    </tr>\n",
       "    <tr>\n",
       "      <th>3</th>\n",
       "      <td>1760</td>\n",
       "      <td>2</td>\n",
       "    </tr>\n",
       "    <tr>\n",
       "      <th>4</th>\n",
       "      <td>2165</td>\n",
       "      <td>1</td>\n",
       "    </tr>\n",
       "  </tbody>\n",
       "</table>\n",
       "</div>"
      ],
      "text/plain": [
       "   tripduration  gender\n",
       "0          1397       1\n",
       "1          1103       1\n",
       "2          1810       1\n",
       "3          1760       2\n",
       "4          2165       1"
      ]
     },
     "execution_count": 105,
     "metadata": {},
     "output_type": "execute_result"
    }
   ],
   "source": [
    "df.head()"
   ]
  },
  {
   "cell_type": "code",
   "execution_count": 106,
   "metadata": {},
   "outputs": [
    {
     "data": {
      "text/html": [
       "<div>\n",
       "<style>\n",
       "    .dataframe thead tr:only-child th {\n",
       "        text-align: right;\n",
       "    }\n",
       "\n",
       "    .dataframe thead th {\n",
       "        text-align: left;\n",
       "    }\n",
       "\n",
       "    .dataframe tbody tr th {\n",
       "        vertical-align: top;\n",
       "    }\n",
       "</style>\n",
       "<table border=\"1\" class=\"dataframe\">\n",
       "  <thead>\n",
       "    <tr style=\"text-align: right;\">\n",
       "      <th></th>\n",
       "      <th>count</th>\n",
       "      <th>mean</th>\n",
       "      <th>std</th>\n",
       "      <th>min</th>\n",
       "      <th>25%</th>\n",
       "      <th>50%</th>\n",
       "      <th>75%</th>\n",
       "      <th>max</th>\n",
       "    </tr>\n",
       "  </thead>\n",
       "  <tbody>\n",
       "    <tr>\n",
       "      <th>Male</th>\n",
       "      <td>2231314.0</td>\n",
       "      <td>915.674561</td>\n",
       "      <td>11655.232424</td>\n",
       "      <td>61.0</td>\n",
       "      <td>356.0</td>\n",
       "      <td>586.0</td>\n",
       "      <td>997.0</td>\n",
       "      <td>3765047.0</td>\n",
       "    </tr>\n",
       "    <tr>\n",
       "      <th>Female</th>\n",
       "      <td>802274.0</td>\n",
       "      <td>1021.775620</td>\n",
       "      <td>10430.924660</td>\n",
       "      <td>61.0</td>\n",
       "      <td>426.0</td>\n",
       "      <td>702.0</td>\n",
       "      <td>1175.0</td>\n",
       "      <td>3050849.0</td>\n",
       "    </tr>\n",
       "  </tbody>\n",
       "</table>\n",
       "</div>"
      ],
      "text/plain": [
       "            count         mean           std   min    25%    50%     75%  \\\n",
       "Male    2231314.0   915.674561  11655.232424  61.0  356.0  586.0   997.0   \n",
       "Female   802274.0  1021.775620  10430.924660  61.0  426.0  702.0  1175.0   \n",
       "\n",
       "              max  \n",
       "Male    3765047.0  \n",
       "Female  3050849.0  "
      ]
     },
     "execution_count": 106,
     "metadata": {},
     "output_type": "execute_result"
    }
   ],
   "source": [
    "# descriptive stats for males and females before removal of outliers\n",
    "a=df[df.gender == 1].tripduration.describe()\n",
    "b=df[df.gender == 2].tripduration.describe()\n",
    "pd.DataFrame([a,b],index=['Male','Female'])"
   ]
  },
  {
   "cell_type": "code",
   "execution_count": 107,
   "metadata": {},
   "outputs": [
    {
     "name": "stdout",
     "output_type": "stream",
     "text": [
      "Original shape:  (3467193, 2)\n",
      "Trimmed shape:  (3120128, 2)\n"
     ]
    }
   ],
   "source": [
    "quantile=df.tripduration.quantile(0.90)\n",
    "print(\"Original shape: \",df.shape)\n",
    "df=df[df.tripduration < quantile]\n",
    "print(\"Trimmed shape: \",df.shape)"
   ]
  },
  {
   "cell_type": "code",
   "execution_count": 108,
   "metadata": {},
   "outputs": [
    {
     "data": {
      "text/html": [
       "<div>\n",
       "<style>\n",
       "    .dataframe thead tr:only-child th {\n",
       "        text-align: right;\n",
       "    }\n",
       "\n",
       "    .dataframe thead th {\n",
       "        text-align: left;\n",
       "    }\n",
       "\n",
       "    .dataframe tbody tr th {\n",
       "        vertical-align: top;\n",
       "    }\n",
       "</style>\n",
       "<table border=\"1\" class=\"dataframe\">\n",
       "  <thead>\n",
       "    <tr style=\"text-align: right;\">\n",
       "      <th></th>\n",
       "      <th>count</th>\n",
       "      <th>mean</th>\n",
       "      <th>std</th>\n",
       "      <th>min</th>\n",
       "      <th>25%</th>\n",
       "      <th>50%</th>\n",
       "      <th>75%</th>\n",
       "      <th>max</th>\n",
       "    </tr>\n",
       "  </thead>\n",
       "  <tbody>\n",
       "    <tr>\n",
       "      <th>Male</th>\n",
       "      <td>2070291.0</td>\n",
       "      <td>646.286923</td>\n",
       "      <td>391.400315</td>\n",
       "      <td>61.0</td>\n",
       "      <td>341.0</td>\n",
       "      <td>547.0</td>\n",
       "      <td>877.0</td>\n",
       "      <td>1738.0</td>\n",
       "    </tr>\n",
       "    <tr>\n",
       "      <th>Female</th>\n",
       "      <td>721359.0</td>\n",
       "      <td>725.304064</td>\n",
       "      <td>405.057347</td>\n",
       "      <td>61.0</td>\n",
       "      <td>401.0</td>\n",
       "      <td>637.0</td>\n",
       "      <td>994.0</td>\n",
       "      <td>1738.0</td>\n",
       "    </tr>\n",
       "  </tbody>\n",
       "</table>\n",
       "</div>"
      ],
      "text/plain": [
       "            count        mean         std   min    25%    50%    75%     max\n",
       "Male    2070291.0  646.286923  391.400315  61.0  341.0  547.0  877.0  1738.0\n",
       "Female   721359.0  725.304064  405.057347  61.0  401.0  637.0  994.0  1738.0"
      ]
     },
     "execution_count": 108,
     "metadata": {},
     "output_type": "execute_result"
    }
   ],
   "source": [
    "# descriptive stats for males and females after removal of \n",
    "a=df[df.gender == 1].tripduration.describe()\n",
    "b=df[df.gender == 2].tripduration.describe()\n",
    "pd.DataFrame([a,b],index=['Male','Female'])"
   ]
  },
  {
   "cell_type": "code",
   "execution_count": 109,
   "metadata": {},
   "outputs": [
    {
     "data": {
      "text/plain": [
       "<matplotlib.legend.Legend at 0x11cb77b00>"
      ]
     },
     "execution_count": 109,
     "metadata": {},
     "output_type": "execute_result"
    },
    {
     "data": {
      "image/png": "[encoded data removed]",
      "text/plain": [
       "<matplotlib.figure.Figure at 0x115f920b8>"
      ]
     },
     "metadata": {},
     "output_type": "display_data"
    }
   ],
   "source": [
    "# represent this as a histogram\n",
    "\n",
    "df[df['gender'] == 1].tripduration.hist(label=\"male\")\n",
    "df[df['gender'] == 2].tripduration.hist(label=\"female\")\n",
    "pl.xlabel(\"Journey time in seconds\")\n",
    "pl.ylabel(\"Frequency\")\n",
    "pl.title(\"Citibike in June/July 2017: Histogram of Journey Time for Males and Females\")\n",
    "pl.legend()\n"
   ]
  },
  {
   "cell_type": "code",
   "execution_count": 113,
   "metadata": {},
   "outputs": [
    {
     "name": "stdout",
     "output_type": "stream",
     "text": [
      "*** Citibike average trip length in June/July 2017 ***\n",
      "Male: 646.29 seconds\n",
      "Female: 725.30 seconds\n"
     ]
    }
   ],
   "source": [
    "print(\"*** Citibike average trip length in June/July 2017 ***\")\n",
    "print(\"Male: %.2f seconds\"%gender_av['tripduration'][1])\n",
    "print(\"Female: %.2f seconds\"%gender_av['tripduration'][2])"
   ]
  },
  {
   "cell_type": "code",
   "execution_count": 110,
   "metadata": {
    "collapsed": true
   },
   "outputs": [],
   "source": [
    "gender_av=df.groupby('gender').mean()"
   ]
  },
  {
   "cell_type": "code",
   "execution_count": 112,
   "metadata": {},
   "outputs": [
    {
     "data": {
      "text/plain": [
       "<matplotlib.text.Text at 0x1a765f1cf8>"
      ]
     },
     "execution_count": 112,
     "metadata": {},
     "output_type": "execute_result"
    },
    {
     "data": {
      "image/png": "[encoded data removed]",
      "text/plain": [
       "<matplotlib.figure.Figure at 0x13d39e208>"
      ]
     },
     "metadata": {},
     "output_type": "display_data"
    }
   ],
   "source": [
    "# Visual inspection for hypothesis that males and females have different ride lengths based on the overall mean\n",
    "\n",
    "fig, ax = pl.subplots()\n",
    "\n",
    "ind = np.arange(1)\n",
    "bar_width = 0.35\n",
    "categories=(\"Men\",\"Women\")\n",
    "\n",
    "bar1=pl.bar(ind,gender_av['tripduration'][1], bar_width, alpha=0.4, color=\"b\", label=\"men\")\n",
    "bar2=pl.bar(ind+bar_width,gender_av['tripduration'][2], bar_width, alpha=0.4, color=\"r\", label='women')\n",
    "\n",
    "\n",
    "plt.ylabel('seconds')\n",
    "plt.legend()\n",
    "plt.title('Average trip length for men and women, June/July 2017')"
   ]
  },
  {
   "cell_type": "code",
   "execution_count": 114,
   "metadata": {},
   "outputs": [
    {
     "data": {
      "text/plain": [
       "Ttest_indResult(statistic=-146.32319263153963, pvalue=0.0)"
      ]
     },
     "execution_count": 114,
     "metadata": {},
     "output_type": "execute_result"
    }
   ],
   "source": [
    "# Use two sample T-test\n",
    "\n",
    "#stats.f_oneway(df[df.gender == 1].tripduration,df[df.gender == 2].tripduration)\n",
    "\n",
    "stats.ttest_ind(df[df.gender == 1].tripduration,df[df.gender == 2].tripduration,equal_var=True,nan_policy='omit',axis=0)"
   ]
  },
  {
   "cell_type": "markdown",
   "metadata": {},
   "source": [
    "### Null hypothesis is rejected because p<0.05."
   ]
  }
 ],
 "metadata": {
  "kernelspec": {
   "display_name": "Python 3",
   "language": "python",
   "name": "python3"
  },
  "language_info": {
   "codemirror_mode": {
    "name": "ipython",
    "version": 3
   },
   "file_extension": ".py",
   "mimetype": "text/x-python",
   "name": "python",
   "nbconvert_exporter": "python",
   "pygments_lexer": "ipython3",
   "version": "3.6.2"
  }
 },
 "nbformat": 4,
 "nbformat_minor": 2
}
