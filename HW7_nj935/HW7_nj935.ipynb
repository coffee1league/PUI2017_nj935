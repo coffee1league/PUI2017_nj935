{
 "cells": [
  {
   "cell_type": "code",
   "execution_count": 59,
   "metadata": {},
   "outputs": [
    {
     "name": "stdout",
     "output_type": "stream",
     "text": [
      "Populating the interactive namespace from numpy and matplotlib\n"
     ]
    }
   ],
   "source": [
    "from __future__  import print_function, division\n",
    "import pylab as pl\n",
    "import pandas as pd\n",
    "import numpy as np\n",
    "import os\n",
    "\n",
    "%pylab inline\n",
    "import scipy.stats as stats\n",
    "datestring1 = \"201706\"\n",
    "datestring2 = \"201707\""
   ]
  },
  {
   "cell_type": "markdown",
   "metadata": {},
   "source": [
    "### Idea to investigate\n",
    "Males make longer rides on average than females do.\n",
    "\n",
    "### Null hypothesis\n",
    "Mean ride length for males is equal to or smaller than mean ride length for females.\n",
    "\n",
    "### Alternative hypothesis\n",
    "Mean ride length for males is longer than mean ride length for women.\n",
    "\n",
    "### Significance level\n",
    "alpha = 0.05"
   ]
  },
  {
   "cell_type": "code",
   "execution_count": 7,
   "metadata": {},
   "outputs": [
    {
     "data": {
      "text/plain": [
       "2304"
      ]
     },
     "execution_count": 7,
     "metadata": {},
     "output_type": "execute_result"
    }
   ],
   "source": [
    "os.getenv(\"PUIDATA\")\n",
    "os.system(\"curl -O https://s3.amazonaws.com/tripdata/\" + datestring1 + \"-citibike-tripdata.zip\")\n",
    "os.system(\"mv \" + datestring1 + \"-citibike-tripdata.zip \" + os.getenv(\"PUIDATA\"))\n",
    "os.system(\"unzip \" + os.getenv(\"PUIDATA\") + \"/\" + datestring1 + \"-citibike-tripdata.zip\")\n",
    "\n",
    "os.system(\"curl -O https://s3.amazonaws.com/tripdata/\" + datestring2 + \"-citibike-tripdata.zip\")\n",
    "os.system(\"mv \" + datestring2 + \"-citibike-tripdata.zip \" + os.getenv(\"PUIDATA\"))\n",
    "os.system(\"unzip \" + os.getenv(\"PUIDATA\") + \"/\" + datestring2 + \"-citibike-tripdata.zip\")\n"
   ]
  },
  {
   "cell_type": "code",
   "execution_count": 13,
   "metadata": {},
   "outputs": [],
   "source": [
    "input1=pd.read_csv(os.getenv(\"PUIDATA\")+\"/\"+datestring1+\"-citibike-tripdata.csv\")\n",
    "#input2=pd.read_csv(os.getenv(\"PUIDATA\")+\"/\"+datestring2+\"-citibike-tripdata.csv\")                   "
   ]
  },
  {
   "cell_type": "code",
   "execution_count": 15,
   "metadata": {},
   "outputs": [],
   "source": [
    "df=pd.concat([input1,input2])"
   ]
  },
  {
   "cell_type": "code",
   "execution_count": 18,
   "metadata": {},
   "outputs": [
    {
     "name": "stdout",
     "output_type": "stream",
     "text": [
      "Two inputs (one month each):  (1731594, 15)    (1735599, 15)\n",
      "Merged (two months):  (3467193, 15)\n"
     ]
    }
   ],
   "source": [
    "# Check it merged OK\n",
    "\n",
    "print(\"Two inputs (one month each): \", input1.shape,\"  \", input2.shape)\n",
    "print(\"Merged (two months): \", df.shape)"
   ]
  },
  {
   "cell_type": "code",
   "execution_count": 19,
   "metadata": {},
   "outputs": [],
   "source": [
    "df.drop(['starttime', 'stoptime', 'start station id',\n",
    "       'start station name', 'start station latitude',\n",
    "       'start station longitude', 'end station id', 'end station name',\n",
    "       'end station latitude', 'end station longitude', 'bikeid', 'usertype',\n",
    "       'birth year'], axis=1, inplace=True)"
   ]
  },
  {
   "cell_type": "code",
   "execution_count": 20,
   "metadata": {},
   "outputs": [
    {
     "data": {
      "text/html": [
       "<div>\n",
       "<style>\n",
       "    .dataframe thead tr:only-child th {\n",
       "        text-align: right;\n",
       "    }\n",
       "\n",
       "    .dataframe thead th {\n",
       "        text-align: left;\n",
       "    }\n",
       "\n",
       "    .dataframe tbody tr th {\n",
       "        vertical-align: top;\n",
       "    }\n",
       "</style>\n",
       "<table border=\"1\" class=\"dataframe\">\n",
       "  <thead>\n",
       "    <tr style=\"text-align: right;\">\n",
       "      <th></th>\n",
       "      <th>tripduration</th>\n",
       "      <th>gender</th>\n",
       "    </tr>\n",
       "  </thead>\n",
       "  <tbody>\n",
       "    <tr>\n",
       "      <th>0</th>\n",
       "      <td>1397</td>\n",
       "      <td>1</td>\n",
       "    </tr>\n",
       "    <tr>\n",
       "      <th>1</th>\n",
       "      <td>1103</td>\n",
       "      <td>1</td>\n",
       "    </tr>\n",
       "    <tr>\n",
       "      <th>2</th>\n",
       "      <td>1810</td>\n",
       "      <td>1</td>\n",
       "    </tr>\n",
       "    <tr>\n",
       "      <th>3</th>\n",
       "      <td>1760</td>\n",
       "      <td>2</td>\n",
       "    </tr>\n",
       "    <tr>\n",
       "      <th>4</th>\n",
       "      <td>2165</td>\n",
       "      <td>1</td>\n",
       "    </tr>\n",
       "  </tbody>\n",
       "</table>\n",
       "</div>"
      ],
      "text/plain": [
       "   tripduration  gender\n",
       "0          1397       1\n",
       "1          1103       1\n",
       "2          1810       1\n",
       "3          1760       2\n",
       "4          2165       1"
      ]
     },
     "execution_count": 20,
     "metadata": {},
     "output_type": "execute_result"
    }
   ],
   "source": [
    "df.head()"
   ]
  },
  {
   "cell_type": "code",
   "execution_count": 40,
   "metadata": {},
   "outputs": [
    {
     "name": "stdout",
     "output_type": "stream",
     "text": [
      "Original shape:  (3467193, 2)\n",
      "Trimmed shape:  (3293678, 2)\n"
     ]
    }
   ],
   "source": [
    "quantile=df.tripduration.quantile(0.95)\n",
    "print(\"Original shape: \",df.shape)\n",
    "df=df[df.tripduration < quantile]\n",
    "print(\"Trimmed shape: \",df.shape)"
   ]
  },
  {
   "cell_type": "code",
   "execution_count": 69,
   "metadata": {},
   "outputs": [
    {
     "data": {
      "text/html": [
       "<div>\n",
       "<style>\n",
       "    .dataframe thead tr:only-child th {\n",
       "        text-align: right;\n",
       "    }\n",
       "\n",
       "    .dataframe thead th {\n",
       "        text-align: left;\n",
       "    }\n",
       "\n",
       "    .dataframe tbody tr th {\n",
       "        vertical-align: top;\n",
       "    }\n",
       "</style>\n",
       "<table border=\"1\" class=\"dataframe\">\n",
       "  <thead>\n",
       "    <tr style=\"text-align: right;\">\n",
       "      <th></th>\n",
       "      <th>count</th>\n",
       "      <th>mean</th>\n",
       "      <th>std</th>\n",
       "      <th>min</th>\n",
       "      <th>25%</th>\n",
       "      <th>50%</th>\n",
       "      <th>75%</th>\n",
       "      <th>max</th>\n",
       "    </tr>\n",
       "  </thead>\n",
       "  <tbody>\n",
       "    <tr>\n",
       "      <th>Male</th>\n",
       "      <td>2157294.0</td>\n",
       "      <td>697.757651</td>\n",
       "      <td>458.940638</td>\n",
       "      <td>61.0</td>\n",
       "      <td>349.0</td>\n",
       "      <td>568.0</td>\n",
       "      <td>938.0</td>\n",
       "      <td>2154.0</td>\n",
       "    </tr>\n",
       "    <tr>\n",
       "      <th>Female</th>\n",
       "      <td>764300.0</td>\n",
       "      <td>792.610644</td>\n",
       "      <td>481.399405</td>\n",
       "      <td>61.0</td>\n",
       "      <td>414.0</td>\n",
       "      <td>671.0</td>\n",
       "      <td>1084.0</td>\n",
       "      <td>2154.0</td>\n",
       "    </tr>\n",
       "  </tbody>\n",
       "</table>\n",
       "</div>"
      ],
      "text/plain": [
       "            count        mean         std   min    25%    50%     75%     max\n",
       "Male    2157294.0  697.757651  458.940638  61.0  349.0  568.0   938.0  2154.0\n",
       "Female   764300.0  792.610644  481.399405  61.0  414.0  671.0  1084.0  2154.0"
      ]
     },
     "execution_count": 69,
     "metadata": {},
     "output_type": "execute_result"
    }
   ],
   "source": [
    "# data for males and females: examine the mean and standard deviation.\n",
    "a=df[df.gender == 1].tripduration.describe()\n",
    "b=df[df.gender == 2].tripduration.describe()\n",
    "pd.DataFrame([a,b],index=['Male','Female'])"
   ]
  },
  {
   "cell_type": "code",
   "execution_count": 63,
   "metadata": {},
   "outputs": [
    {
     "data": {
      "text/plain": [
       "<matplotlib.legend.Legend at 0x112bd4208>"
      ]
     },
     "execution_count": 63,
     "metadata": {},
     "output_type": "execute_result"
    },
    {
     "data": {
      "image/png": "[encoded data removed]",
      "text/plain": [
       "<matplotlib.figure.Figure at 0x112929390>"
      ]
     },
     "metadata": {},
     "output_type": "display_data"
    }
   ],
   "source": [
    "# represent this as a histogram\n",
    "\n",
    "df[df['gender'] == 1].tripduration.hist(label=\"male\")\n",
    "df[df['gender'] == 2].tripduration.hist(label=\"female\")\n",
    "pl.xlabel(\"Journey time in seconds\")\n",
    "pl.ylabel(\"Frequency\")\n",
    "pl.legend()\n"
   ]
  },
  {
   "cell_type": "code",
   "execution_count": 22,
   "metadata": {
    "collapsed": true
   },
   "outputs": [],
   "source": [
    "gender_av=df.groupby('gender').mean()"
   ]
  },
  {
   "cell_type": "code",
   "execution_count": 70,
   "metadata": {},
   "outputs": [
    {
     "data": {
      "text/plain": [
       "<matplotlib.text.Text at 0x116348278>"
      ]
     },
     "execution_count": 70,
     "metadata": {},
     "output_type": "execute_result"
    },
    {
     "data": {
      "image/png": "[encoded data removed]",
      "text/plain": [
       "<matplotlib.figure.Figure at 0x115f92cc0>"
      ]
     },
     "metadata": {},
     "output_type": "display_data"
    }
   ],
   "source": [
    "# Visual inspection for hypothesis that males and females have different ride lengths based on the overall mean\n",
    "\n",
    "fig, ax = pl.subplots()\n",
    "\n",
    "ind = np.arange(1)\n",
    "bar_width = 0.35\n",
    "categories=(\"Men\",\"Women\")\n",
    "\n",
    "bar1=pl.bar(ind,gender_av['tripduration'][1], bar_width, alpha=0.4, color=\"b\", label=\"men\")\n",
    "bar2=pl.bar(ind+bar_width,gender_av['tripduration'][2], bar_width, alpha=0.4, color=\"r\", label='women')\n",
    "\n",
    "\n",
    "plt.ylabel('seconds')\n",
    "plt.legend()\n",
    "plt.title('Average trip length for men and women, June/July 2017')"
   ]
  },
  {
   "cell_type": "code",
   "execution_count": 68,
   "metadata": {},
   "outputs": [
    {
     "data": {
      "text/plain": [
       "Ttest_indResult(statistic=-153.26704832438881, pvalue=0.0)"
      ]
     },
     "execution_count": 68,
     "metadata": {},
     "output_type": "execute_result"
    }
   ],
   "source": [
    "# Use two sample T-test\n",
    "\n",
    "stats.ttest_ind(df[df.gender == 1].tripduration,df[df.gender == 2].tripduration,equal_var=True,nan_policy='omit',axis=0)"
   ]
  },
  {
   "cell_type": "markdown",
   "metadata": {},
   "source": [
    "### Null hypothesis is rejected because p<0.5."
   ]
  },
  {
   "cell_type": "code",
   "execution_count": 27,
   "metadata": {},
   "outputs": [
    {
     "name": "stdout",
     "output_type": "stream",
     "text": [
      "*** Citibike average trip length in June/July 2017 ***\n",
      "Male: 915.67 seconds\n",
      "Female: 1021.78 seconds\n"
     ]
    }
   ],
   "source": [
    "print(\"*** Citibike average trip length in June/July 2017 ***\")\n",
    "print(\"Male: %.2f seconds\"%gender_av['tripduration'][1])\n",
    "print(\"Female: %.2f seconds\"%gender_av['tripduration'][2])"
   ]
  }
 ],
 "metadata": {
  "kernelspec": {
   "display_name": "Python 3",
   "language": "python",
   "name": "python3"
  },
  "language_info": {
   "codemirror_mode": {
    "name": "ipython",
    "version": 3
   },
   "file_extension": ".py",
   "mimetype": "text/x-python",
   "name": "python",
   "nbconvert_exporter": "python",
   "pygments_lexer": "ipython3",
   "version": "3.6.2"
  }
 },
 "nbformat": 4,
 "nbformat_minor": 2
}
