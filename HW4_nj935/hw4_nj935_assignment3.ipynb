{
 "cells": [
  {
   "cell_type": "markdown",
   "metadata": {},
   "source": [
    "## Assignment 3 - Nick Jones (nj935@nyu.edu)"
   ]
  },
  {
   "cell_type": "markdown",
   "metadata": {},
   "source": [
    "### What strategies work for the hard-to-reach.\n",
    "Reproducing the results on likelihood of re-offending and being convicted of a felony after\n",
    "taking part in the program."
   ]
  },
  {
   "cell_type": "code",
   "execution_count": 236,
   "metadata": {
    "collapsed": false
   },
   "outputs": [
    {
     "name": "stdout",
     "output_type": "stream",
     "text": [
      "Populating the interactive namespace from numpy and matplotlib\n",
      "we must assess the statistical significance\n",
      "Z score: -0.8463\n"
     ]
    },
    {
     "ename": "TypeError",
     "evalue": "float argument required, not function",
     "output_type": "error",
     "traceback": [
      "\u001b[0;31m\u001b[0m",
      "\u001b[0;31mTypeError\u001b[0mTraceback (most recent call last)",
      "\u001b[0;32m<ipython-input-236-ed06e313ba95>\u001b[0m in \u001b[0;36m<module>\u001b[0;34m()\u001b[0m\n\u001b[1;32m     66\u001b[0m \u001b[0;34m\u001b[0m\u001b[0m\n\u001b[1;32m     67\u001b[0m \u001b[0;31m#print(\"p: %s\" % p)\u001b[0m\u001b[0;34m\u001b[0m\u001b[0;34m\u001b[0m\u001b[0m\n\u001b[0;32m---> 68\u001b[0;31m \u001b[0;32mprint\u001b[0m\u001b[0;34m(\u001b[0m\u001b[0;34m\"se: %.4f\"\u001b[0m \u001b[0;34m%\u001b[0m \u001b[0mse\u001b[0m\u001b[0;34m)\u001b[0m\u001b[0;34m\u001b[0m\u001b[0m\n\u001b[0m\u001b[1;32m     69\u001b[0m \u001b[0;31m#print(\"z score: %.4f\" % zscore)\u001b[0m\u001b[0;34m\u001b[0m\u001b[0;34m\u001b[0m\u001b[0m\n\u001b[1;32m     70\u001b[0m \u001b[0;32mprint\u001b[0m\u001b[0;34m(\u001b[0m\u001b[0;34m\"z_3y: %.4f\"\u001b[0m \u001b[0;34m%\u001b[0m \u001b[0mz_3y\u001b[0m\u001b[0;34m)\u001b[0m\u001b[0;34m\u001b[0m\u001b[0m\n",
      "\u001b[0;31mTypeError\u001b[0m: float argument required, not function"
     ]
    }
   ],
   "source": [
    "import os\n",
    "import sys\n",
    "import numpy as np\n",
    "import pylab as pl\n",
    "import pandas as pd\n",
    "\n",
    "import json\n",
    "import os\n",
    "\n",
    "%pylab inline\n",
    "\n",
    "'''Question: are participants in the program less likely to re-offend and be\n",
    "convicted of a felony than non-participants?\n",
    "\n",
    "Data:\n",
    " - conviction rates after three years for the control group (P0)\n",
    " - conviction rates after three years for test group (P1)\n",
    "\n",
    "Null hypothesis\n",
    "H0: P0=<P1\n",
    "H1: P0>P1\n",
    "\n",
    "significance level p = 0.05'''\n",
    "\n",
    "alpha=0.05\n",
    "P_0 = 11.7 * 0.01 \n",
    "P_1 = 10.0 * 0.01\n",
    "\n",
    "if P_0 - P_1 <= 0:\n",
    "    print (\"the Null holds\")\n",
    "else:\n",
    "    print (\"we must assess the statistical significance\")\n",
    "\n",
    "# get counts of re-offenders by multiplying p * sample size\n",
    "n_0 = 409 \n",
    "n_1 = 564 \n",
    "\n",
    "Nt_0 = P_0 * n_0\n",
    "Nt_1 = P_1 * n_1\n",
    "\n",
    "# functions for sample proportions and standard error\n",
    "p = lambda p0, p1, n0, n1: (p0 * n0 + p1 * n1) / (n0 + n1)\n",
    "se = lambda p, n0, n1: np.sqrt(p * (1 - p) * (1.0 / n0 + 1.0 / n1))\n",
    "\n",
    "# Z-score: how many standard deviations is the sample from the population \n",
    "zscore = lambda p0, p1, s : (p0 - p1) / s\n",
    "z_3y = zscore(P_1, P_0, se(p(P_0, P_1, n_0, n_1), n_0, n_1))\n",
    "print (\"Z score: %.4f\"%z_3y)\n",
    "\n",
    "''' Generates z score: -0.8463\n",
    " from look-up table, the probability of getting the\n",
    " z-score -0.846283 is 0.7995'''\n",
    " \n",
    "p_3y = 1 - 0.7995\n",
    "\n",
    "def report_result(p,a):\n",
    "    print ('is the p value ' + \n",
    "           '{0:.4f} smaller than the critical value {1:.2f}?'.format(p,a))\n",
    "    if p < a:\n",
    "        print (\"YES!\")\n",
    "    else: \n",
    "        print (\"\\nNO!\")\n",
    "    \n",
    "    print ('the Null hypothesis is {}'.format(\\\n",
    "                            'rejected' if p < a  else 'not rejected') )\n",
    "\n",
    "report_result(p_3y, alpha)"
   ]
  },
  {
   "cell_type": "markdown",
   "metadata": {},
   "source": [
    "### Look at recidivism using chi-square test instead"
   ]
  },
  {
   "cell_type": "code",
   "execution_count": 198,
   "metadata": {
    "collapsed": false
   },
   "outputs": [],
   "source": [
    "def evalChisq(values):\n",
    "    '''Evaluates the chi sq from a contingency value\n",
    "    Arguments:\n",
    "    values: 2x2 array or list, the contingengy table\n",
    "    '''\n",
    "    if not (len(values.shape) == 2 and values.shape == (2,2)):\n",
    "        print (\"must pass a 2D array\")\n",
    "        return -1\n",
    "    values = np.array(values)\n",
    "    E = np.empty_like(values)\n",
    "    for j in range(len(values[0])):\n",
    "        for i in range(2):\n",
    "            \n",
    "            E[i][j] = ((values[i,:].sum() * values[:,j].sum()) / \n",
    "                        (values).sum())\n",
    "    return ((values - E)**2 / E).sum()"
   ]
  },
  {
   "cell_type": "code",
   "execution_count": 194,
   "metadata": {
    "collapsed": false
   },
   "outputs": [
    {
     "data": {
      "text/html": [
       "<div>\n",
       "<table border=\"1\" class=\"dataframe\">\n",
       "  <thead>\n",
       "    <tr style=\"text-align: right;\">\n",
       "      <th></th>\n",
       "      <th>yes</th>\n",
       "      <th>no</th>\n",
       "      <th>total</th>\n",
       "    </tr>\n",
       "  </thead>\n",
       "  <tbody>\n",
       "    <tr>\n",
       "      <th>test</th>\n",
       "      <td>56.800</td>\n",
       "      <td>511.200</td>\n",
       "      <td>568.0</td>\n",
       "    </tr>\n",
       "    <tr>\n",
       "      <th>control</th>\n",
       "      <td>47.853</td>\n",
       "      <td>361.147</td>\n",
       "      <td>409.0</td>\n",
       "    </tr>\n",
       "    <tr>\n",
       "      <th>total</th>\n",
       "      <td>104.653</td>\n",
       "      <td>872.347</td>\n",
       "      <td>977.0</td>\n",
       "    </tr>\n",
       "  </tbody>\n",
       "</table>\n",
       "</div>"
      ],
      "text/plain": [
       "             yes       no  total\n",
       "test      56.800  511.200  568.0\n",
       "control   47.853  361.147  409.0\n",
       "total    104.653  872.347  977.0"
      ]
     },
     "execution_count": 194,
     "metadata": {},
     "output_type": "execute_result"
    }
   ],
   "source": [
    "# Build contingency table\n",
    "\n",
    "rec_table = np.zeros(shape=(3,3))\n",
    "rt = pd.DataFrame(data=rec_table, columns=(\"yes\",\"no\",\"total\"), index=('test','control','total'))\n",
    "\n",
    "test_N = [0.1*568,(1-0.1)*568]   # prob times values for the test group\n",
    "test_N = np.array(test_N)\n",
    "test_N = np.append(test_N,test_N.sum())   # add in the total\n",
    "\n",
    "control_N = [0.117*409,(1-0.117)*409]   # and for the control group\n",
    "control_N = np.array(control_N)\n",
    "control_N = np.append(control_N,control_N.sum())   # add in the total\n",
    "\n",
    "rt.iloc[0,] = test_N\n",
    "rt.iloc[1,] = control_N\n",
    "\n",
    "convicted = rt.yes.sum()\n",
    "not_convicted = rt.no.sum()\n",
    "grand_total = rt.total.sum()\n",
    "\n",
    "rt.iloc[2,0] = convicted\n",
    "rt.iloc[2,1] = not_convicted\n",
    "rt.iloc[2,2]= grand_total\n",
    "rt\n"
   ]
  },
  {
   "cell_type": "code",
   "execution_count": 224,
   "metadata": {
    "collapsed": false
   },
   "outputs": [
    {
     "name": "stdout",
     "output_type": "stream",
     "text": [
      "Critical value: 3.84 \n",
      "Test statistic: 0.718493917505\n",
      "\n",
      "Null hypothesis is not rejected!\n"
     ]
    }
   ],
   "source": [
    "# Chi-squared test at p=0.05\n",
    "\n",
    "test_values=np.vstack((test_N[0:2],control_N[0:2]))\n",
    "\n",
    "crit_value = 3.84\n",
    "\n",
    "test_stat = evalChisq(test_values)\n",
    "\n",
    "print(\"Critical value: %s \\nTest statistic: %s\" % (crit_value,test_stat))\n",
    "if test_stat <= crit_value:\n",
    "    print(\"\\nNull hypothesis is not rejected!\")\n",
    "else:\n",
    "    print(\"Null hypothesis rejected\")\n",
    "    "
   ]
  }
 ],
 "metadata": {
  "kernelspec": {
   "display_name": "PUI2016_Python2",
   "language": "python",
   "name": "pui2016_python2"
  },
  "language_info": {
   "codemirror_mode": {
    "name": "ipython",
    "version": 2
   },
   "file_extension": ".py",
   "mimetype": "text/x-python",
   "name": "python",
   "nbconvert_exporter": "python",
   "pygments_lexer": "ipython2",
   "version": "2.7.12"
  }
 },
 "nbformat": 4,
 "nbformat_minor": 0
}
